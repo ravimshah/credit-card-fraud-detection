{
 "cells": [
  {
   "cell_type": "code",
   "execution_count": 2,
   "id": "964ef685-c73a-4617-aaf1-0c029b3ee27c",
   "metadata": {},
   "outputs": [],
   "source": [
    "import numpy as np\n",
    "import pandas as pd\n",
    "import matplotlib.pyplot as plt\n",
    "import seaborn as sns\n",
    "\n",
    "from sklearn.model_selection import train_test_split\n",
    "from sklearn.linear_model import LogisticRegression\n",
    "import pickle"
   ]
  },
  {
   "cell_type": "code",
   "execution_count": 3,
   "id": "9cc7f053-ba30-4d81-860b-63c9ca57627c",
   "metadata": {},
   "outputs": [],
   "source": [
    "df = pd.read_csv(r\"C:\\Users\\bhavi\\Downloads\\SMSR\\Machine Learning\\Credit_card_fraud_detection_linear\\Cred_card_fraud\\card_transdata.csv\")"
   ]
  },
  {
   "cell_type": "code",
   "execution_count": 4,
   "id": "3fe5bb1c-67d0-4ef9-bfaa-1190ce34b5c3",
   "metadata": {},
   "outputs": [
    {
     "data": {
      "text/html": [
       "<div>\n",
       "<style scoped>\n",
       "    .dataframe tbody tr th:only-of-type {\n",
       "        vertical-align: middle;\n",
       "    }\n",
       "\n",
       "    .dataframe tbody tr th {\n",
       "        vertical-align: top;\n",
       "    }\n",
       "\n",
       "    .dataframe thead th {\n",
       "        text-align: right;\n",
       "    }\n",
       "</style>\n",
       "<table border=\"1\" class=\"dataframe\">\n",
       "  <thead>\n",
       "    <tr style=\"text-align: right;\">\n",
       "      <th></th>\n",
       "      <th>distance_from_home</th>\n",
       "      <th>distance_from_last_transaction</th>\n",
       "      <th>ratio_to_median_purchase_price</th>\n",
       "      <th>repeat_retailer</th>\n",
       "      <th>used_chip</th>\n",
       "      <th>used_pin_number</th>\n",
       "      <th>online_order</th>\n",
       "      <th>fraud</th>\n",
       "    </tr>\n",
       "  </thead>\n",
       "  <tbody>\n",
       "    <tr>\n",
       "      <th>0</th>\n",
       "      <td>57.877857</td>\n",
       "      <td>0.311140</td>\n",
       "      <td>1.945940</td>\n",
       "      <td>1.0</td>\n",
       "      <td>1.0</td>\n",
       "      <td>0.0</td>\n",
       "      <td>0.0</td>\n",
       "      <td>0.0</td>\n",
       "    </tr>\n",
       "    <tr>\n",
       "      <th>1</th>\n",
       "      <td>10.829943</td>\n",
       "      <td>0.175592</td>\n",
       "      <td>1.294219</td>\n",
       "      <td>1.0</td>\n",
       "      <td>0.0</td>\n",
       "      <td>0.0</td>\n",
       "      <td>0.0</td>\n",
       "      <td>0.0</td>\n",
       "    </tr>\n",
       "    <tr>\n",
       "      <th>2</th>\n",
       "      <td>5.091079</td>\n",
       "      <td>0.805153</td>\n",
       "      <td>0.427715</td>\n",
       "      <td>1.0</td>\n",
       "      <td>0.0</td>\n",
       "      <td>0.0</td>\n",
       "      <td>1.0</td>\n",
       "      <td>0.0</td>\n",
       "    </tr>\n",
       "    <tr>\n",
       "      <th>3</th>\n",
       "      <td>2.247564</td>\n",
       "      <td>5.600044</td>\n",
       "      <td>0.362663</td>\n",
       "      <td>1.0</td>\n",
       "      <td>1.0</td>\n",
       "      <td>0.0</td>\n",
       "      <td>1.0</td>\n",
       "      <td>0.0</td>\n",
       "    </tr>\n",
       "    <tr>\n",
       "      <th>4</th>\n",
       "      <td>44.190936</td>\n",
       "      <td>0.566486</td>\n",
       "      <td>2.222767</td>\n",
       "      <td>1.0</td>\n",
       "      <td>1.0</td>\n",
       "      <td>0.0</td>\n",
       "      <td>1.0</td>\n",
       "      <td>0.0</td>\n",
       "    </tr>\n",
       "    <tr>\n",
       "      <th>...</th>\n",
       "      <td>...</td>\n",
       "      <td>...</td>\n",
       "      <td>...</td>\n",
       "      <td>...</td>\n",
       "      <td>...</td>\n",
       "      <td>...</td>\n",
       "      <td>...</td>\n",
       "      <td>...</td>\n",
       "    </tr>\n",
       "    <tr>\n",
       "      <th>999995</th>\n",
       "      <td>2.207101</td>\n",
       "      <td>0.112651</td>\n",
       "      <td>1.626798</td>\n",
       "      <td>1.0</td>\n",
       "      <td>1.0</td>\n",
       "      <td>0.0</td>\n",
       "      <td>0.0</td>\n",
       "      <td>0.0</td>\n",
       "    </tr>\n",
       "    <tr>\n",
       "      <th>999996</th>\n",
       "      <td>19.872726</td>\n",
       "      <td>2.683904</td>\n",
       "      <td>2.778303</td>\n",
       "      <td>1.0</td>\n",
       "      <td>1.0</td>\n",
       "      <td>0.0</td>\n",
       "      <td>0.0</td>\n",
       "      <td>0.0</td>\n",
       "    </tr>\n",
       "    <tr>\n",
       "      <th>999997</th>\n",
       "      <td>2.914857</td>\n",
       "      <td>1.472687</td>\n",
       "      <td>0.218075</td>\n",
       "      <td>1.0</td>\n",
       "      <td>1.0</td>\n",
       "      <td>0.0</td>\n",
       "      <td>1.0</td>\n",
       "      <td>0.0</td>\n",
       "    </tr>\n",
       "    <tr>\n",
       "      <th>999998</th>\n",
       "      <td>4.258729</td>\n",
       "      <td>0.242023</td>\n",
       "      <td>0.475822</td>\n",
       "      <td>1.0</td>\n",
       "      <td>0.0</td>\n",
       "      <td>0.0</td>\n",
       "      <td>1.0</td>\n",
       "      <td>0.0</td>\n",
       "    </tr>\n",
       "    <tr>\n",
       "      <th>999999</th>\n",
       "      <td>58.108125</td>\n",
       "      <td>0.318110</td>\n",
       "      <td>0.386920</td>\n",
       "      <td>1.0</td>\n",
       "      <td>1.0</td>\n",
       "      <td>0.0</td>\n",
       "      <td>1.0</td>\n",
       "      <td>0.0</td>\n",
       "    </tr>\n",
       "  </tbody>\n",
       "</table>\n",
       "<p>1000000 rows × 8 columns</p>\n",
       "</div>"
      ],
      "text/plain": [
       "        distance_from_home  distance_from_last_transaction  \\\n",
       "0                57.877857                        0.311140   \n",
       "1                10.829943                        0.175592   \n",
       "2                 5.091079                        0.805153   \n",
       "3                 2.247564                        5.600044   \n",
       "4                44.190936                        0.566486   \n",
       "...                    ...                             ...   \n",
       "999995            2.207101                        0.112651   \n",
       "999996           19.872726                        2.683904   \n",
       "999997            2.914857                        1.472687   \n",
       "999998            4.258729                        0.242023   \n",
       "999999           58.108125                        0.318110   \n",
       "\n",
       "        ratio_to_median_purchase_price  repeat_retailer  used_chip  \\\n",
       "0                             1.945940              1.0        1.0   \n",
       "1                             1.294219              1.0        0.0   \n",
       "2                             0.427715              1.0        0.0   \n",
       "3                             0.362663              1.0        1.0   \n",
       "4                             2.222767              1.0        1.0   \n",
       "...                                ...              ...        ...   \n",
       "999995                        1.626798              1.0        1.0   \n",
       "999996                        2.778303              1.0        1.0   \n",
       "999997                        0.218075              1.0        1.0   \n",
       "999998                        0.475822              1.0        0.0   \n",
       "999999                        0.386920              1.0        1.0   \n",
       "\n",
       "        used_pin_number  online_order  fraud  \n",
       "0                   0.0           0.0    0.0  \n",
       "1                   0.0           0.0    0.0  \n",
       "2                   0.0           1.0    0.0  \n",
       "3                   0.0           1.0    0.0  \n",
       "4                   0.0           1.0    0.0  \n",
       "...                 ...           ...    ...  \n",
       "999995              0.0           0.0    0.0  \n",
       "999996              0.0           0.0    0.0  \n",
       "999997              0.0           1.0    0.0  \n",
       "999998              0.0           1.0    0.0  \n",
       "999999              0.0           1.0    0.0  \n",
       "\n",
       "[1000000 rows x 8 columns]"
      ]
     },
     "execution_count": 4,
     "metadata": {},
     "output_type": "execute_result"
    }
   ],
   "source": [
    "df"
   ]
  },
  {
   "cell_type": "code",
   "execution_count": 5,
   "id": "115e552e-fcf4-4f42-8ee1-a5776aa9ec44",
   "metadata": {},
   "outputs": [
    {
     "name": "stdout",
     "output_type": "stream",
     "text": [
      "<class 'pandas.core.frame.DataFrame'>\n",
      "RangeIndex: 1000000 entries, 0 to 999999\n",
      "Data columns (total 8 columns):\n",
      " #   Column                          Non-Null Count    Dtype  \n",
      "---  ------                          --------------    -----  \n",
      " 0   distance_from_home              1000000 non-null  float64\n",
      " 1   distance_from_last_transaction  1000000 non-null  float64\n",
      " 2   ratio_to_median_purchase_price  1000000 non-null  float64\n",
      " 3   repeat_retailer                 1000000 non-null  float64\n",
      " 4   used_chip                       1000000 non-null  float64\n",
      " 5   used_pin_number                 1000000 non-null  float64\n",
      " 6   online_order                    1000000 non-null  float64\n",
      " 7   fraud                           1000000 non-null  float64\n",
      "dtypes: float64(8)\n",
      "memory usage: 61.0 MB\n"
     ]
    }
   ],
   "source": [
    "df.info()"
   ]
  },
  {
   "cell_type": "code",
   "execution_count": 7,
   "id": "c69f8022-512e-47d3-aa4d-42032ed5fa7f",
   "metadata": {},
   "outputs": [
    {
     "data": {
      "text/plain": [
       "distance_from_home                0\n",
       "distance_from_last_transaction    0\n",
       "ratio_to_median_purchase_price    0\n",
       "repeat_retailer                   0\n",
       "used_chip                         0\n",
       "used_pin_number                   0\n",
       "online_order                      0\n",
       "fraud                             0\n",
       "dtype: int64"
      ]
     },
     "execution_count": 7,
     "metadata": {},
     "output_type": "execute_result"
    }
   ],
   "source": [
    "df.isnull().sum()"
   ]
  },
  {
   "cell_type": "code",
   "execution_count": 8,
   "id": "34d5ba5f-0f27-4698-bf18-97c123b9694a",
   "metadata": {},
   "outputs": [
    {
     "name": "stdout",
     "output_type": "stream",
     "text": [
      "fraud\n",
      "0.0    912597\n",
      "1.0     87403\n",
      "Name: count, dtype: int64\n"
     ]
    }
   ],
   "source": [
    "print(df.fraud.value_counts())"
   ]
  },
  {
   "cell_type": "code",
   "execution_count": 9,
   "id": "b998bbb8-37d4-44db-aa06-76c90a1c1a08",
   "metadata": {},
   "outputs": [],
   "source": [
    "df = pd.concat([\n",
    "    df[df.fraud == 1],\n",
    "    df[df.fraud == 0].sample(n = 87403)\n",
    "])"
   ]
  },
  {
   "cell_type": "code",
   "execution_count": 10,
   "id": "046b7bc0-33c6-4b4f-bf4d-a3d7ee7edd14",
   "metadata": {},
   "outputs": [
    {
     "data": {
      "text/plain": [
       "fraud\n",
       "1.0    87403\n",
       "0.0    87403\n",
       "Name: count, dtype: int64"
      ]
     },
     "execution_count": 10,
     "metadata": {},
     "output_type": "execute_result"
    }
   ],
   "source": [
    "df.fraud.value_counts()"
   ]
  },
  {
   "cell_type": "code",
   "execution_count": 12,
   "id": "002940ae-50f3-49c5-9a2a-bb286d220990",
   "metadata": {},
   "outputs": [
    {
     "data": {
      "text/plain": [
       "Index(['distance_from_home', 'distance_from_last_transaction',\n",
       "       'ratio_to_median_purchase_price', 'repeat_retailer', 'used_chip',\n",
       "       'used_pin_number', 'online_order', 'fraud'],\n",
       "      dtype='object')"
      ]
     },
     "execution_count": 12,
     "metadata": {},
     "output_type": "execute_result"
    }
   ],
   "source": [
    "df.columns"
   ]
  },
  {
   "cell_type": "code",
   "execution_count": 16,
   "id": "58a8930d-dda1-4ba6-9a97-692b18e28c68",
   "metadata": {},
   "outputs": [],
   "source": [
    "df[\"fraud\"] = df[\"fraud\"].astype(int)"
   ]
  },
  {
   "cell_type": "code",
   "execution_count": 17,
   "id": "8a364ba9-0c8d-46dc-87ea-763fbe9fbd04",
   "metadata": {},
   "outputs": [],
   "source": [
    "x = df.drop([\"fraud\"], axis = 1)\n",
    "y = df[\"fraud\"]"
   ]
  },
  {
   "cell_type": "code",
   "execution_count": 18,
   "id": "330f2338-9a17-45cd-a61a-0a3aefc8accc",
   "metadata": {},
   "outputs": [
    {
     "name": "stdout",
     "output_type": "stream",
     "text": [
      "        distance_from_home  distance_from_last_transaction  \\\n",
      "13                2.131956                       56.372401   \n",
      "24                3.803057                       67.241081   \n",
      "29               15.694986                      175.989182   \n",
      "35               26.711462                        1.552008   \n",
      "36               10.664474                        1.565769   \n",
      "...                    ...                             ...   \n",
      "32478             1.869925                       45.428037   \n",
      "755735           21.823085                        0.232695   \n",
      "385832            0.333367                        0.129999   \n",
      "903773            4.987482                        3.272580   \n",
      "526575           17.778339                        0.229017   \n",
      "\n",
      "        ratio_to_median_purchase_price  repeat_retailer  used_chip  \\\n",
      "13                            6.358667              1.0        0.0   \n",
      "24                            1.872950              1.0        0.0   \n",
      "29                            0.855623              1.0        0.0   \n",
      "35                            4.603601              1.0        1.0   \n",
      "36                            4.886521              1.0        0.0   \n",
      "...                                ...              ...        ...   \n",
      "32478                         1.261755              0.0        0.0   \n",
      "755735                        1.076033              1.0        0.0   \n",
      "385832                        0.580769              0.0        0.0   \n",
      "903773                        0.413974              1.0        1.0   \n",
      "526575                        1.058910              1.0        0.0   \n",
      "\n",
      "        used_pin_number  online_order  \n",
      "13                  0.0           1.0  \n",
      "24                  0.0           1.0  \n",
      "29                  0.0           1.0  \n",
      "35                  0.0           1.0  \n",
      "36                  0.0           1.0  \n",
      "...                 ...           ...  \n",
      "32478               0.0           1.0  \n",
      "755735              0.0           0.0  \n",
      "385832              0.0           0.0  \n",
      "903773              0.0           1.0  \n",
      "526575              0.0           0.0  \n",
      "\n",
      "[174806 rows x 7 columns]\n"
     ]
    }
   ],
   "source": [
    "print(x)"
   ]
  },
  {
   "cell_type": "code",
   "execution_count": 19,
   "id": "b8690567-2b1a-4155-a65e-ab2df7bddc73",
   "metadata": {},
   "outputs": [
    {
     "name": "stdout",
     "output_type": "stream",
     "text": [
      "13        1\n",
      "24        1\n",
      "29        1\n",
      "35        1\n",
      "36        1\n",
      "         ..\n",
      "32478     0\n",
      "755735    0\n",
      "385832    0\n",
      "903773    0\n",
      "526575    0\n",
      "Name: fraud, Length: 174806, dtype: int32\n"
     ]
    }
   ],
   "source": [
    "print(y)"
   ]
  },
  {
   "cell_type": "code",
   "execution_count": 20,
   "id": "31ca756e-f95d-440a-a5ce-75f9ebda91b4",
   "metadata": {},
   "outputs": [],
   "source": [
    "x_train, x_test, y_train, y_test = train_test_split(x, y, test_size = 0.2, random_state = 2)"
   ]
  },
  {
   "cell_type": "code",
   "execution_count": 21,
   "id": "3b8aad4a-d51c-469a-aace-dca3699a01dd",
   "metadata": {},
   "outputs": [
    {
     "name": "stdout",
     "output_type": "stream",
     "text": [
      "        distance_from_home  distance_from_last_transaction  \\\n",
      "433234            5.325103                       21.034465   \n",
      "916471           13.870957                        0.751479   \n",
      "694116           73.106238                        4.903754   \n",
      "861178           13.851810                        1.847227   \n",
      "870355           27.168757                        1.466571   \n",
      "...                    ...                             ...   \n",
      "369863           22.147759                        0.525306   \n",
      "738687            2.317880                        1.929876   \n",
      "220473            6.377319                      133.014019   \n",
      "514557            1.957938                        6.863179   \n",
      "441924          141.866236                        7.009412   \n",
      "\n",
      "        ratio_to_median_purchase_price  repeat_retailer  used_chip  \\\n",
      "433234                        4.555176              1.0        1.0   \n",
      "916471                        0.779570              1.0        0.0   \n",
      "694116                       30.891568              1.0        0.0   \n",
      "861178                        3.827294              1.0        0.0   \n",
      "870355                        0.585276              1.0        1.0   \n",
      "...                                ...              ...        ...   \n",
      "369863                        5.432816              1.0        0.0   \n",
      "738687                        1.080077              1.0        1.0   \n",
      "220473                        4.967397              1.0        0.0   \n",
      "514557                        0.989000              1.0        1.0   \n",
      "441924                        0.301287              1.0        0.0   \n",
      "\n",
      "        used_pin_number  online_order  \n",
      "433234              0.0           1.0  \n",
      "916471              0.0           1.0  \n",
      "694116              0.0           1.0  \n",
      "861178              0.0           1.0  \n",
      "870355              0.0           1.0  \n",
      "...                 ...           ...  \n",
      "369863              0.0           1.0  \n",
      "738687              0.0           0.0  \n",
      "220473              0.0           1.0  \n",
      "514557              0.0           1.0  \n",
      "441924              0.0           1.0  \n",
      "\n",
      "[34962 rows x 7 columns]\n"
     ]
    }
   ],
   "source": [
    "print(x_test)"
   ]
  },
  {
   "cell_type": "code",
   "execution_count": 22,
   "id": "c1b61fa9-2036-4ed2-a874-5154065ea386",
   "metadata": {},
   "outputs": [
    {
     "name": "stdout",
     "output_type": "stream",
     "text": [
      "433234    1\n",
      "916471    0\n",
      "694116    1\n",
      "861178    0\n",
      "870355    0\n",
      "         ..\n",
      "369863    1\n",
      "738687    0\n",
      "220473    1\n",
      "514557    0\n",
      "441924    1\n",
      "Name: fraud, Length: 34962, dtype: int32\n"
     ]
    }
   ],
   "source": [
    "print(y_test)"
   ]
  },
  {
   "cell_type": "code",
   "execution_count": 23,
   "id": "e92e26f2-6443-4906-809f-78809eafc968",
   "metadata": {},
   "outputs": [
    {
     "name": "stdout",
     "output_type": "stream",
     "text": [
      "        distance_from_home  distance_from_last_transaction  \\\n",
      "757266           35.114515                        0.253669   \n",
      "852779           39.754248                      104.286998   \n",
      "287904          270.873369                        0.143073   \n",
      "149872            2.337403                        0.182744   \n",
      "488618            4.381366                       44.811842   \n",
      "...                    ...                             ...   \n",
      "965803            5.953549                      148.875208   \n",
      "131517            4.072045                        0.702330   \n",
      "322397           18.812775                        0.962353   \n",
      "799053           11.866361                        4.179750   \n",
      "195703            4.725282                        0.259215   \n",
      "\n",
      "        ratio_to_median_purchase_price  repeat_retailer  used_chip  \\\n",
      "757266                        0.542865              1.0        0.0   \n",
      "852779                        2.742688              1.0        0.0   \n",
      "287904                        0.806332              1.0        0.0   \n",
      "149872                        0.860299              1.0        1.0   \n",
      "488618                        0.613963              1.0        0.0   \n",
      "...                                ...              ...        ...   \n",
      "965803                        0.938697              1.0        0.0   \n",
      "131517                        2.731150              1.0        1.0   \n",
      "322397                        2.072639              1.0        0.0   \n",
      "799053                        0.245802              1.0        1.0   \n",
      "195703                        2.166361              1.0        0.0   \n",
      "\n",
      "        used_pin_number  online_order  \n",
      "757266              1.0           1.0  \n",
      "852779              0.0           1.0  \n",
      "287904              0.0           1.0  \n",
      "149872              1.0           1.0  \n",
      "488618              1.0           1.0  \n",
      "...                 ...           ...  \n",
      "965803              0.0           1.0  \n",
      "131517              0.0           1.0  \n",
      "322397              0.0           0.0  \n",
      "799053              0.0           1.0  \n",
      "195703              0.0           1.0  \n",
      "\n",
      "[139844 rows x 7 columns]\n"
     ]
    }
   ],
   "source": [
    "print(x_train)"
   ]
  },
  {
   "cell_type": "code",
   "execution_count": 24,
   "id": "eefea70d-f247-487e-9579-8b03ed97c697",
   "metadata": {},
   "outputs": [
    {
     "name": "stdout",
     "output_type": "stream",
     "text": [
      "757266    0\n",
      "852779    1\n",
      "287904    1\n",
      "149872    0\n",
      "488618    0\n",
      "         ..\n",
      "965803    1\n",
      "131517    0\n",
      "322397    0\n",
      "799053    0\n",
      "195703    0\n",
      "Name: fraud, Length: 139844, dtype: int32\n"
     ]
    }
   ],
   "source": [
    "print(y_train)"
   ]
  },
  {
   "cell_type": "code",
   "execution_count": 25,
   "id": "f0f3c3ff-7c84-4d66-8a67-0e349b1ac087",
   "metadata": {},
   "outputs": [],
   "source": [
    "log_reg_model = LogisticRegression()"
   ]
  },
  {
   "cell_type": "code",
   "execution_count": 26,
   "id": "78ec20dd-8fce-4d34-a41d-294ebbb1b386",
   "metadata": {},
   "outputs": [
    {
     "name": "stderr",
     "output_type": "stream",
     "text": [
      "C:\\Users\\bhavi\\anaconda3\\Lib\\site-packages\\sklearn\\linear_model\\_logistic.py:460: ConvergenceWarning: lbfgs failed to converge (status=1):\n",
      "STOP: TOTAL NO. of ITERATIONS REACHED LIMIT.\n",
      "\n",
      "Increase the number of iterations (max_iter) or scale the data as shown in:\n",
      "    https://scikit-learn.org/stable/modules/preprocessing.html\n",
      "Please also refer to the documentation for alternative solver options:\n",
      "    https://scikit-learn.org/stable/modules/linear_model.html#logistic-regression\n",
      "  n_iter_i = _check_optimize_result(\n"
     ]
    },
    {
     "data": {
      "text/html": [
       "<style>#sk-container-id-1 {color: black;}#sk-container-id-1 pre{padding: 0;}#sk-container-id-1 div.sk-toggleable {background-color: white;}#sk-container-id-1 label.sk-toggleable__label {cursor: pointer;display: block;width: 100%;margin-bottom: 0;padding: 0.3em;box-sizing: border-box;text-align: center;}#sk-container-id-1 label.sk-toggleable__label-arrow:before {content: \"▸\";float: left;margin-right: 0.25em;color: #696969;}#sk-container-id-1 label.sk-toggleable__label-arrow:hover:before {color: black;}#sk-container-id-1 div.sk-estimator:hover label.sk-toggleable__label-arrow:before {color: black;}#sk-container-id-1 div.sk-toggleable__content {max-height: 0;max-width: 0;overflow: hidden;text-align: left;background-color: #f0f8ff;}#sk-container-id-1 div.sk-toggleable__content pre {margin: 0.2em;color: black;border-radius: 0.25em;background-color: #f0f8ff;}#sk-container-id-1 input.sk-toggleable__control:checked~div.sk-toggleable__content {max-height: 200px;max-width: 100%;overflow: auto;}#sk-container-id-1 input.sk-toggleable__control:checked~label.sk-toggleable__label-arrow:before {content: \"▾\";}#sk-container-id-1 div.sk-estimator input.sk-toggleable__control:checked~label.sk-toggleable__label {background-color: #d4ebff;}#sk-container-id-1 div.sk-label input.sk-toggleable__control:checked~label.sk-toggleable__label {background-color: #d4ebff;}#sk-container-id-1 input.sk-hidden--visually {border: 0;clip: rect(1px 1px 1px 1px);clip: rect(1px, 1px, 1px, 1px);height: 1px;margin: -1px;overflow: hidden;padding: 0;position: absolute;width: 1px;}#sk-container-id-1 div.sk-estimator {font-family: monospace;background-color: #f0f8ff;border: 1px dotted black;border-radius: 0.25em;box-sizing: border-box;margin-bottom: 0.5em;}#sk-container-id-1 div.sk-estimator:hover {background-color: #d4ebff;}#sk-container-id-1 div.sk-parallel-item::after {content: \"\";width: 100%;border-bottom: 1px solid gray;flex-grow: 1;}#sk-container-id-1 div.sk-label:hover label.sk-toggleable__label {background-color: #d4ebff;}#sk-container-id-1 div.sk-serial::before {content: \"\";position: absolute;border-left: 1px solid gray;box-sizing: border-box;top: 0;bottom: 0;left: 50%;z-index: 0;}#sk-container-id-1 div.sk-serial {display: flex;flex-direction: column;align-items: center;background-color: white;padding-right: 0.2em;padding-left: 0.2em;position: relative;}#sk-container-id-1 div.sk-item {position: relative;z-index: 1;}#sk-container-id-1 div.sk-parallel {display: flex;align-items: stretch;justify-content: center;background-color: white;position: relative;}#sk-container-id-1 div.sk-item::before, #sk-container-id-1 div.sk-parallel-item::before {content: \"\";position: absolute;border-left: 1px solid gray;box-sizing: border-box;top: 0;bottom: 0;left: 50%;z-index: -1;}#sk-container-id-1 div.sk-parallel-item {display: flex;flex-direction: column;z-index: 1;position: relative;background-color: white;}#sk-container-id-1 div.sk-parallel-item:first-child::after {align-self: flex-end;width: 50%;}#sk-container-id-1 div.sk-parallel-item:last-child::after {align-self: flex-start;width: 50%;}#sk-container-id-1 div.sk-parallel-item:only-child::after {width: 0;}#sk-container-id-1 div.sk-dashed-wrapped {border: 1px dashed gray;margin: 0 0.4em 0.5em 0.4em;box-sizing: border-box;padding-bottom: 0.4em;background-color: white;}#sk-container-id-1 div.sk-label label {font-family: monospace;font-weight: bold;display: inline-block;line-height: 1.2em;}#sk-container-id-1 div.sk-label-container {text-align: center;}#sk-container-id-1 div.sk-container {/* jupyter's `normalize.less` sets `[hidden] { display: none; }` but bootstrap.min.css set `[hidden] { display: none !important; }` so we also need the `!important` here to be able to override the default hidden behavior on the sphinx rendered scikit-learn.org. See: https://github.com/scikit-learn/scikit-learn/issues/21755 */display: inline-block !important;position: relative;}#sk-container-id-1 div.sk-text-repr-fallback {display: none;}</style><div id=\"sk-container-id-1\" class=\"sk-top-container\"><div class=\"sk-text-repr-fallback\"><pre>LogisticRegression()</pre><b>In a Jupyter environment, please rerun this cell to show the HTML representation or trust the notebook. <br />On GitHub, the HTML representation is unable to render, please try loading this page with nbviewer.org.</b></div><div class=\"sk-container\" hidden><div class=\"sk-item\"><div class=\"sk-estimator sk-toggleable\"><input class=\"sk-toggleable__control sk-hidden--visually\" id=\"sk-estimator-id-1\" type=\"checkbox\" checked><label for=\"sk-estimator-id-1\" class=\"sk-toggleable__label sk-toggleable__label-arrow\">LogisticRegression</label><div class=\"sk-toggleable__content\"><pre>LogisticRegression()</pre></div></div></div></div></div>"
      ],
      "text/plain": [
       "LogisticRegression()"
      ]
     },
     "execution_count": 26,
     "metadata": {},
     "output_type": "execute_result"
    }
   ],
   "source": [
    "log_reg_model.fit(x_train, y_train)"
   ]
  },
  {
   "cell_type": "code",
   "execution_count": 28,
   "id": "ae7bdb91-3d1c-4ced-b168-9f73b2fed66e",
   "metadata": {},
   "outputs": [],
   "source": [
    "log_train_model = log_reg_model.predict(x_train)"
   ]
  },
  {
   "cell_type": "code",
   "execution_count": 30,
   "id": "65672b01-5fd5-4fe9-857a-9a82f30778b0",
   "metadata": {},
   "outputs": [
    {
     "data": {
      "text/plain": [
       "94.04050227396242"
      ]
     },
     "execution_count": 30,
     "metadata": {},
     "output_type": "execute_result"
    }
   ],
   "source": [
    "log_reg_model.score(x_train, y_train)*100"
   ]
  },
  {
   "cell_type": "code",
   "execution_count": 31,
   "id": "91e933ae-9c62-461d-be3a-b37dea08275d",
   "metadata": {},
   "outputs": [
    {
     "data": {
      "text/plain": [
       "<Axes: xlabel='fraud'>"
      ]
     },
     "execution_count": 31,
     "metadata": {},
     "output_type": "execute_result"
    },
    {
     "data": {
      "image/png": "[encoded data removed]",
      "text/plain": [
       "<Figure size 640x480 with 1 Axes>"
      ]
     },
     "metadata": {},
     "output_type": "display_data"
    }
   ],
   "source": [
    "sns.regplot(x = y_train, y = log_train_model, logistic = True, ci = None)\n"
   ]
  },
  {
   "cell_type": "code",
   "execution_count": 32,
   "id": "b41b707e-6c65-44ec-a5fc-2dd4189e8118",
   "metadata": {},
   "outputs": [],
   "source": [
    "log_test_model = log_reg_model.predict(x_test)"
   ]
  },
  {
   "cell_type": "code",
   "execution_count": 34,
   "id": "5aab6ff8-18e7-4062-b478-a089d17fc251",
   "metadata": {},
   "outputs": [
    {
     "data": {
      "text/plain": [
       "94.08500657857101"
      ]
     },
     "execution_count": 34,
     "metadata": {},
     "output_type": "execute_result"
    }
   ],
   "source": [
    "log_reg_model.score(x_test, y_test)*100"
   ]
  },
  {
   "cell_type": "code",
   "execution_count": 35,
   "id": "8a39c10e-4ad0-4e32-86f3-b18d5247ae36",
   "metadata": {},
   "outputs": [
    {
     "data": {
      "text/plain": [
       "<Axes: xlabel='fraud'>"
      ]
     },
     "execution_count": 35,
     "metadata": {},
     "output_type": "execute_result"
    },
    {
     "data": {
      "image/png": "[encoded data removed]",
      "text/plain": [
       "<Figure size 640x480 with 1 Axes>"
      ]
     },
     "metadata": {},
     "output_type": "display_data"
    }
   ],
   "source": [
    "sns.regplot(x = y_test, y = log_test_model, logistic = True, ci = None)\n"
   ]
  },
  {
   "cell_type": "code",
   "execution_count": 36,
   "id": "5a219a29-591c-4fb1-bcc6-892f748a6758",
   "metadata": {},
   "outputs": [
    {
     "name": "stdout",
     "output_type": "stream",
     "text": [
      "433234    1\n",
      "916471    0\n",
      "694116    1\n",
      "861178    0\n",
      "870355    0\n",
      "         ..\n",
      "369863    1\n",
      "738687    0\n",
      "220473    1\n",
      "514557    0\n",
      "441924    1\n",
      "Name: fraud, Length: 34962, dtype: int32\n"
     ]
    }
   ],
   "source": [
    "print(y_test)"
   ]
  },
  {
   "cell_type": "code",
   "execution_count": 40,
   "id": "a63ccc07-2ab9-4103-b7b6-3ae108e6b945",
   "metadata": {},
   "outputs": [
    {
     "name": "stdout",
     "output_type": "stream",
     "text": [
      "List of arguments:                                [1.957938145948961, 6.863179240311317, 0.9889998239418551, 1.0, 1.0, 0.0, 1.0]\n",
      "Actual Amount:                                    0\n",
      "Model Prediction Amount:                          [0]\n",
      "Difference Between Actual and Prediction:         [0]\n"
     ]
    },
    {
     "name": "stderr",
     "output_type": "stream",
     "text": [
      "C:\\Users\\bhavi\\anaconda3\\Lib\\site-packages\\sklearn\\base.py:464: UserWarning: X does not have valid feature names, but LogisticRegression was fitted with feature names\n",
      "  warnings.warn(\n"
     ]
    }
   ],
   "source": [
    "line = 514557\n",
    "\n",
    "a = list(x_test.loc[line])\n",
    "b = y_test.loc[line]\n",
    "\n",
    "a1 = log_reg_model.predict([a])\n",
    "\n",
    "print(\"List of arguments:                               \",a)\n",
    "print(\"Actual Amount:                                   \",b)\n",
    "\n",
    "print(\"Model Prediction Amount:                         \",a1)\n",
    "\n",
    "print(\"Difference Between Actual and Prediction:        \",a1 - b)"
   ]
  },
  {
   "cell_type": "code",
   "execution_count": 41,
   "id": "5964ef76-06fd-4c3c-a4fa-f8bd6bfac29d",
   "metadata": {},
   "outputs": [
    {
     "data": {
      "text/plain": [
       "array([1, 0, 1, ..., 1, 0, 1])"
      ]
     },
     "execution_count": 41,
     "metadata": {},
     "output_type": "execute_result"
    }
   ],
   "source": [
    "saved_model = pickle.dumps(log_reg_model)\n",
    "FraudDetection_from_pickle = pickle.loads(saved_model)\n",
    "FraudDetection_from_pickle.predict(x_test)"
   ]
  },
  {
   "cell_type": "code",
   "execution_count": 42,
   "id": "af73c616-834b-4bbc-be29-1366f90c6a84",
   "metadata": {},
   "outputs": [],
   "source": [
    "pickle.dump(log_reg_model, open(\"CreditCardFraud.pkl\", \"wb\"))"
   ]
  },
  {
   "cell_type": "code",
   "execution_count": 43,
   "id": "f0db53ad-83dd-4bde-9912-c48a6beb3a20",
   "metadata": {},
   "outputs": [],
   "source": [
    "pickle_model = pickle.load(open(\"CreditCardFraud.pkl\", \"rb\"))"
   ]
  },
  {
   "cell_type": "code",
   "execution_count": 44,
   "id": "214e7a0a-e984-458d-9074-cf1def441e8e",
   "metadata": {},
   "outputs": [
    {
     "data": {
      "text/plain": [
       "433234    1\n",
       "916471    0\n",
       "694116    1\n",
       "861178    0\n",
       "870355    0\n",
       "         ..\n",
       "369863    1\n",
       "738687    0\n",
       "220473    1\n",
       "514557    0\n",
       "441924    1\n",
       "Name: fraud, Length: 34962, dtype: int32"
      ]
     },
     "execution_count": 44,
     "metadata": {},
     "output_type": "execute_result"
    }
   ],
   "source": [
    "y_test"
   ]
  },
  {
   "cell_type": "code",
   "execution_count": 46,
   "id": "cb5630e9-0a18-4d4a-b5cf-784486a9a79c",
   "metadata": {},
   "outputs": [
    {
     "name": "stdout",
     "output_type": "stream",
     "text": [
      "List of arguments:                                [5.325102866189466, 21.034464994644065, 4.555176284352117, 1.0, 1.0, 0.0, 1.0]\n",
      "Actual Amount:                                    1\n",
      "Model Prediction Amount:                          [1]\n",
      "Difference Between Actual and Prediction:         [0]\n"
     ]
    },
    {
     "name": "stderr",
     "output_type": "stream",
     "text": [
      "C:\\Users\\bhavi\\anaconda3\\Lib\\site-packages\\sklearn\\base.py:464: UserWarning: X does not have valid feature names, but LogisticRegression was fitted with feature names\n",
      "  warnings.warn(\n"
     ]
    }
   ],
   "source": [
    "line = 433234\n",
    "\n",
    "a = list(x_test.loc[line])\n",
    "b = y_test.loc[line]\n",
    "\n",
    "a1 = pickle_model.predict([a])\n",
    "\n",
    "print(\"List of arguments:                               \",a)\n",
    "print(\"Actual Amount:                                   \",b)\n",
    "\n",
    "print(\"Model Prediction Amount:                         \",a1)\n",
    "\n",
    "print(\"Difference Between Actual and Prediction:        \",a1 - b)"
   ]
  },
  {
   "cell_type": "code",
   "execution_count": null,
   "id": "6f3b262b-6424-4074-b7c9-27c692134045",
   "metadata": {},
   "outputs": [],
   "source": []
  }
 ],
 "metadata": {
  "kernelspec": {
   "display_name": "Python 3 (ipykernel)",
   "language": "python",
   "name": "python3"
  },
  "language_info": {
   "codemirror_mode": {
    "name": "ipython",
    "version": 3
   },
   "file_extension": ".py",
   "mimetype": "text/x-python",
   "name": "python",
   "nbconvert_exporter": "python",
   "pygments_lexer": "ipython3",
   "version": "3.11.5"
  }
 },
 "nbformat": 4,
 "nbformat_minor": 5
}
